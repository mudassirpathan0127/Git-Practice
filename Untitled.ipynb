{
 "cells": [
  {
   "cell_type": "code",
   "execution_count": 8,
   "id": "79c59893-6037-4e34-b80a-56d540fc44fe",
   "metadata": {},
   "outputs": [
    {
     "name": "stdout",
     "output_type": "stream",
     "text": [
      "Twinkle, twinkle, little star,\n",
      "        How I wonder what you are!\n",
      "        Up above the world so high,\n",
      "        Like a diamond in the sky.\n",
      "Twinkle, twinkle, little star,\n",
      "        How I wonder what you are\n"
     ]
    }
   ],
   "source": [
    "# Q:1. Write a Python program to print the following string in a specific format\n",
    "\n",
    "print(\"Twinkle, twinkle, little star,\")\n",
    "print(\"        How I wonder what you are!\") \n",
    "print(\"        Up above the world so high,\") \n",
    "print(\"        Like a diamond in the sky.\") \n",
    "print(\"Twinkle, twinkle, little star,\") \n",
    "print(\"        How I wonder what you are\")"
   ]
  },
  {
   "cell_type": "code",
   "execution_count": 10,
   "id": "c8aa969c-ddad-4f0c-88e5-a606442a49fe",
   "metadata": {},
   "outputs": [
    {
     "name": "stdout",
     "output_type": "stream",
     "text": [
      "3.13.5\n"
     ]
    }
   ],
   "source": [
    "#Q:2. Write a Python program to get the Python version you are using\n",
    "\n",
    "import platform\n",
    "print(platform.python_version())"
   ]
  },
  {
   "cell_type": "code",
   "execution_count": 11,
   "id": "aacdfdcc-515e-42e1-b5f5-e74a21ab813a",
   "metadata": {},
   "outputs": [
    {
     "name": "stdout",
     "output_type": "stream",
     "text": [
      "2025-07-25 04:50:26.078941\n"
     ]
    }
   ],
   "source": [
    "#Q:3. Write a Python program to display the current date and time.\n",
    "\n",
    "import datetime\n",
    "now = datetime.datetime.now()\n",
    "print(now)"
   ]
  },
  {
   "cell_type": "code",
   "execution_count": 12,
   "id": "e2983c4e-33f6-43cf-aaec-48f516aa3f1b",
   "metadata": {},
   "outputs": [
    {
     "name": "stdin",
     "output_type": "stream",
     "text": [
      " 5\n"
     ]
    },
    {
     "name": "stdout",
     "output_type": "stream",
     "text": [
      "78.5\n"
     ]
    }
   ],
   "source": [
    "#Q:4. Write a Python program which accepts the radius of a circle from the user and compute the area.\n",
    "\n",
    "radius = int(input())\n",
    "area = 3.14 * radius**2\n",
    "print(area)"
   ]
  },
  {
   "cell_type": "code",
   "execution_count": 13,
   "id": "56827c85-27c3-4b32-8ff4-dde70c002d90",
   "metadata": {},
   "outputs": [
    {
     "name": "stdin",
     "output_type": "stream",
     "text": [
      " mudassir\n",
      " khan\n"
     ]
    },
    {
     "name": "stdout",
     "output_type": "stream",
     "text": [
      "khan mudassir\n"
     ]
    }
   ],
   "source": [
    "#Q:5. Write a Python program which accepts the user's first and last name and print them in reverse order with a space between them.\n",
    "\n",
    "firstname = input()\n",
    "lastname = input()\n",
    "print(lastname,firstname)"
   ]
  },
  {
   "cell_type": "code",
   "execution_count": 14,
   "id": "6264601b-5485-4f23-98c6-33307e1d598b",
   "metadata": {},
   "outputs": [
    {
     "name": "stdin",
     "output_type": "stream",
     "text": [
      " 2\n",
      " 3\n"
     ]
    },
    {
     "name": "stdout",
     "output_type": "stream",
     "text": [
      "5\n"
     ]
    }
   ],
   "source": [
    "#Q:6. Write a python program which takes two inputs from user and print them addition\n",
    "\n",
    "num1 = int(input())\n",
    "num2 = int(input())\n",
    "print( num1 + num2)"
   ]
  },
  {
   "cell_type": "code",
   "execution_count": 15,
   "id": "6766a787-b5ae-4545-92f1-f759b238b18a",
   "metadata": {},
   "outputs": [
    {
     "name": "stdin",
     "output_type": "stream",
     "text": [
      " 70\n",
      " 60\n",
      " 50\n",
      " 40\n",
      " 30\n"
     ]
    },
    {
     "name": "stdout",
     "output_type": "stream",
     "text": [
      "250\n",
      "50.0\n",
      "D\n"
     ]
    }
   ],
   "source": [
    "#Q:7. Write a program which takes 5 inputs from user for different subject's marks, total it and generate mark sheet using grades ?\n",
    "\n",
    "english = int(input())\n",
    "math = int(input())\n",
    "science = int(input())\n",
    "history = int(input())\n",
    "urdu = int(input())\n",
    "\n",
    "total = english + math + science + history + urdu \n",
    "print(total)\n",
    "\n",
    "perc = total / 5  \n",
    "print(perc)\n",
    "\n",
    "if perc >= 90:\n",
    "    print(\"A+\")\n",
    "elif perc >= 80:\n",
    "    print(\"A\")\n",
    "elif perc >= 70:\n",
    "    print(\"B\")\n",
    "elif perc >= 60:\n",
    "    print(\"C\")\n",
    "elif perc >= 50:\n",
    "    print(\"D\")\n",
    "else:\n",
    "    print(\"F\")"
   ]
  },
  {
   "cell_type": "code",
   "execution_count": 16,
   "id": "eae8252c-4391-41bf-ae66-1496f4cbc35b",
   "metadata": {},
   "outputs": [
    {
     "name": "stdin",
     "output_type": "stream",
     "text": [
      " 87\n"
     ]
    },
    {
     "name": "stdout",
     "output_type": "stream",
     "text": [
      "odd\n"
     ]
    }
   ],
   "source": [
    "#Q:8. Write a program which take input from user and identify that the given number is even or odd?\n",
    "\n",
    "num = int(input())\n",
    "if num % 2 == 0:\n",
    "    print(\"even\")\n",
    "else:\n",
    "    print (\"odd\")"
   ]
  }
 ],
 "metadata": {
  "kernelspec": {
   "display_name": "Python 3 (ipykernel)",
   "language": "python",
   "name": "python3"
  },
  "language_info": {
   "codemirror_mode": {
    "name": "ipython",
    "version": 3
   },
   "file_extension": ".py",
   "mimetype": "text/x-python",
   "name": "python",
   "nbconvert_exporter": "python",
   "pygments_lexer": "ipython3",
   "version": "3.13.5"
  }
 },
 "nbformat": 4,
 "nbformat_minor": 5
}
